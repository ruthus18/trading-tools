{
 "cells": [
  {
   "cell_type": "code",
   "execution_count": 1,
   "metadata": {},
   "outputs": [],
   "source": [
    "import datetime as dt\n",
    "from decimal import Decimal\n",
    "import pandas as pd\n",
    "from app.tinkoff import client, Interval, Instrument, TinkoffClient\n",
    "from app import config\n",
    "\n",
    "import numpy as np"
   ]
  },
  {
   "cell_type": "code",
   "execution_count": 2,
   "metadata": {},
   "outputs": [
    {
     "data": {
      "text/plain": [
       "[]"
      ]
     },
     "execution_count": 2,
     "metadata": {},
     "output_type": "execute_result"
    }
   ],
   "source": [
    "client_prod = TinkoffClient(config.TINKOFF_URL, config.TINKOFF_TRADING_TOKEN)\n",
    "client_prod.get_portfolio()"
   ]
  },
  {
   "cell_type": "code",
   "execution_count": 3,
   "metadata": {},
   "outputs": [
    {
     "name": "stderr",
     "output_type": "stream",
     "text": [
      "2020-10-25 00:53:19 [INFO]: Tortoise-ORM startup\n",
      "    connections: {'default': {'engine': 'tortoise.backends.asyncpg', 'credentials': {'host': 'localhost', 'port': 5432, 'user': 'trading', 'password': 'trading', 'database': 'trading'}}}\n",
      "    apps: {'models': {'models': ['app.models', 'aerich.models']}}\n"
     ]
    }
   ],
   "source": [
    "from app.tinkoff import TinkoffImporter\n",
    "from app.models import init_db\n",
    "\n",
    "await init_db()\n",
    "importer = TinkoffImporter(client_prod)"
   ]
  },
  {
   "cell_type": "code",
   "execution_count": 4,
   "metadata": {},
   "outputs": [
    {
     "name": "stderr",
     "output_type": "stream",
     "text": [
      "2020-10-25 00:53:23 [INFO]: Imported 0 stocks\n"
     ]
    }
   ],
   "source": [
    "await importer.import_stocks()"
   ]
  },
  {
   "cell_type": "code",
   "execution_count": 5,
   "metadata": {},
   "outputs": [
    {
     "name": "stderr",
     "output_type": "stream",
     "text": [
      "2020-10-25 00:53:58 [INFO]: API requests limit reached. Waiting 1 min...\n",
      "2020-10-25 00:55:28 [INFO]: Imported 19547 candles for Tesla Motors\n"
     ]
    }
   ],
   "source": [
    "start_dt = dt.datetime(2020, 1, 1)\n",
    "end_dt = dt.datetime(2020, 10, 25)\n",
    "\n",
    "await importer.import_candles('TSLA', start_dt, end_dt, interval=Interval.M10)"
   ]
  },
  {
   "cell_type": "code",
   "execution_count": null,
   "metadata": {},
   "outputs": [],
   "source": []
  }
 ],
 "metadata": {
  "kernelspec": {
   "display_name": "Python 3",
   "language": "python",
   "name": "python3"
  },
  "language_info": {
   "codemirror_mode": {
    "name": "ipython",
    "version": 3
   },
   "file_extension": ".py",
   "mimetype": "text/x-python",
   "name": "python",
   "nbconvert_exporter": "python",
   "pygments_lexer": "ipython3",
   "version": "3.8.1"
  }
 },
 "nbformat": 4,
 "nbformat_minor": 4
}
