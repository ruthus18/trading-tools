{
 "cells": [
  {
   "cell_type": "code",
   "execution_count": 1,
   "metadata": {},
   "outputs": [],
   "source": [
    "import datetime as dt\n",
    "from decimal import Decimal\n",
    "import pandas as pd\n",
    "from app.tinkoff import client, Interval, Instrument, TinkoffClient\n",
    "from app import config\n",
    "\n",
    "import numpy as np"
   ]
  },
  {
   "cell_type": "code",
   "execution_count": 2,
   "metadata": {},
   "outputs": [
    {
     "data": {
      "text/plain": [
       "[]"
      ]
     },
     "execution_count": 2,
     "metadata": {},
     "output_type": "execute_result"
    }
   ],
   "source": [
    "client_prod = TinkoffClient(config.TINKOFF_URL, config.TINKOFF_TRADING_TOKEN)\n",
    "client_prod.get_portfolio()"
   ]
  },
  {
   "cell_type": "code",
   "execution_count": 3,
   "metadata": {},
   "outputs": [
    {
     "data": {
      "text/html": [
       "<div>\n",
       "<style scoped>\n",
       "    .dataframe tbody tr th:only-of-type {\n",
       "        vertical-align: middle;\n",
       "    }\n",
       "\n",
       "    .dataframe tbody tr th {\n",
       "        vertical-align: top;\n",
       "    }\n",
       "\n",
       "    .dataframe thead th {\n",
       "        text-align: right;\n",
       "    }\n",
       "</style>\n",
       "<table border=\"1\" class=\"dataframe\">\n",
       "  <thead>\n",
       "    <tr style=\"text-align: right;\">\n",
       "      <th></th>\n",
       "      <th>name</th>\n",
       "      <th>ticker</th>\n",
       "      <th>figi</th>\n",
       "      <th>currency</th>\n",
       "    </tr>\n",
       "  </thead>\n",
       "  <tbody>\n",
       "    <tr>\n",
       "      <th>746</th>\n",
       "      <td>Agilent Technologies</td>\n",
       "      <td>A</td>\n",
       "      <td>BBG000C2V3D6</td>\n",
       "      <td>USD</td>\n",
       "    </tr>\n",
       "    <tr>\n",
       "      <th>1159</th>\n",
       "      <td>Alcoa Corporation</td>\n",
       "      <td>AA</td>\n",
       "      <td>BBG00B3T3HD3</td>\n",
       "      <td>USD</td>\n",
       "    </tr>\n",
       "    <tr>\n",
       "      <th>1225</th>\n",
       "      <td>American Airlines Group</td>\n",
       "      <td>AAL</td>\n",
       "      <td>BBG005P7Q881</td>\n",
       "      <td>USD</td>\n",
       "    </tr>\n",
       "    <tr>\n",
       "      <th>235</th>\n",
       "      <td>Aarons Holdings Company</td>\n",
       "      <td>AAN</td>\n",
       "      <td>BBG00VSH86G4</td>\n",
       "      <td>USD</td>\n",
       "    </tr>\n",
       "    <tr>\n",
       "      <th>549</th>\n",
       "      <td>Aaron's Inc</td>\n",
       "      <td>AANold</td>\n",
       "      <td>BBG000D9V7T4</td>\n",
       "      <td>USD</td>\n",
       "    </tr>\n",
       "    <tr>\n",
       "      <th>...</th>\n",
       "      <td>...</td>\n",
       "      <td>...</td>\n",
       "      <td>...</td>\n",
       "      <td>...</td>\n",
       "    </tr>\n",
       "    <tr>\n",
       "      <th>1042</th>\n",
       "      <td>Zoetis</td>\n",
       "      <td>ZTS</td>\n",
       "      <td>BBG0039320N9</td>\n",
       "      <td>USD</td>\n",
       "    </tr>\n",
       "    <tr>\n",
       "      <th>1226</th>\n",
       "      <td>Zumiez Inc</td>\n",
       "      <td>ZUMZ</td>\n",
       "      <td>BBG000PYX812</td>\n",
       "      <td>USD</td>\n",
       "    </tr>\n",
       "    <tr>\n",
       "      <th>280</th>\n",
       "      <td>Zuora Inc</td>\n",
       "      <td>ZUO</td>\n",
       "      <td>BBG000BT3HG5</td>\n",
       "      <td>USD</td>\n",
       "    </tr>\n",
       "    <tr>\n",
       "      <th>846</th>\n",
       "      <td>Zynerba Pharmaceuticals Inc</td>\n",
       "      <td>ZYNE</td>\n",
       "      <td>BBG007BBS8B7</td>\n",
       "      <td>USD</td>\n",
       "    </tr>\n",
       "    <tr>\n",
       "      <th>665</th>\n",
       "      <td>Zynex Inc</td>\n",
       "      <td>ZYXI</td>\n",
       "      <td>BBG000BJBXZ2</td>\n",
       "      <td>USD</td>\n",
       "    </tr>\n",
       "  </tbody>\n",
       "</table>\n",
       "<p>1333 rows × 4 columns</p>\n",
       "</div>"
      ],
      "text/plain": [
       "                             name  ticker          figi currency\n",
       "746          Agilent Technologies       A  BBG000C2V3D6      USD\n",
       "1159            Alcoa Corporation      AA  BBG00B3T3HD3      USD\n",
       "1225      American Airlines Group     AAL  BBG005P7Q881      USD\n",
       "235       Aarons Holdings Company     AAN  BBG00VSH86G4      USD\n",
       "549                   Aaron's Inc  AANold  BBG000D9V7T4      USD\n",
       "...                           ...     ...           ...      ...\n",
       "1042                       Zoetis     ZTS  BBG0039320N9      USD\n",
       "1226                   Zumiez Inc    ZUMZ  BBG000PYX812      USD\n",
       "280                     Zuora Inc     ZUO  BBG000BT3HG5      USD\n",
       "846   Zynerba Pharmaceuticals Inc    ZYNE  BBG007BBS8B7      USD\n",
       "665                     Zynex Inc    ZYXI  BBG000BJBXZ2      USD\n",
       "\n",
       "[1333 rows x 4 columns]"
      ]
     },
     "execution_count": 3,
     "metadata": {},
     "output_type": "execute_result"
    }
   ],
   "source": [
    "stocks = client.get_stocks()\n",
    "\n",
    "df = pd.DataFrame.from_dict(stock.dict() for stock in stocks)\n",
    "\n",
    "df[df.currency == 'USD'].sort_values('ticker')"
   ]
  },
  {
   "cell_type": "code",
   "execution_count": 4,
   "metadata": {},
   "outputs": [
    {
     "name": "stderr",
     "output_type": "stream",
     "text": [
      "2020-10-24 20:45:29 [INFO]: Tortoise-ORM startup\n",
      "    connections: {'default': {'engine': 'tortoise.backends.asyncpg', 'credentials': {'host': 'localhost', 'port': 5432, 'user': 'trading', 'password': 'trading', 'database': 'trading'}}}\n",
      "    apps: {'models': {'models': ['app.models', 'aerich.models']}}\n"
     ]
    }
   ],
   "source": [
    "from app.tinkoff import TinkoffImporter\n",
    "from app.models import init_db\n",
    "\n",
    "await init_db()\n",
    "importer = TinkoffImporter(client_prod)"
   ]
  },
  {
   "cell_type": "code",
   "execution_count": 5,
   "metadata": {},
   "outputs": [
    {
     "name": "stderr",
     "output_type": "stream",
     "text": [
      "2020-10-24 20:45:56 [INFO]: Imported 0 stocks\n"
     ]
    }
   ],
   "source": [
    "await importer.import_stocks()"
   ]
  },
  {
   "cell_type": "code",
   "execution_count": 6,
   "metadata": {},
   "outputs": [
    {
     "name": "stderr",
     "output_type": "stream",
     "text": [
      "2020-10-24 20:46:20 [INFO]: API requests limit reached. Waiting 1 min...\n",
      "2020-10-24 20:47:29 [INFO]: API requests limit reached. Waiting 1 min...\n",
      "2020-10-24 20:48:40 [INFO]: API requests limit reached. Waiting 1 min...\n",
      "2020-10-24 20:51:46 [INFO]: Imported 79299 candles for AMD\n"
     ]
    }
   ],
   "source": [
    "start_dt = dt.datetime(2019, 1, 1)\n",
    "end_dt = dt.datetime(2020, 10, 1)\n",
    "\n",
    "await importer.import_candles('AMD', start_dt, end_dt, interval=Interval.M5)"
   ]
  },
  {
   "cell_type": "code",
   "execution_count": null,
   "metadata": {},
   "outputs": [],
   "source": []
  }
 ],
 "metadata": {
  "kernelspec": {
   "display_name": "Python 3",
   "language": "python",
   "name": "python3"
  },
  "language_info": {
   "codemirror_mode": {
    "name": "ipython",
    "version": 3
   },
   "file_extension": ".py",
   "mimetype": "text/x-python",
   "name": "python",
   "nbconvert_exporter": "python",
   "pygments_lexer": "ipython3",
   "version": "3.8.1"
  }
 },
 "nbformat": 4,
 "nbformat_minor": 4
}
